{
  "cells": [
    {
      "cell_type": "code",
      "execution_count": null,
      "metadata": {
        "colab": {
          "base_uri": "https://localhost:8080/"
        },
        "id": "C4HZx7Gndbrh",
        "outputId": "b6437c1d-0999-4de6-b6cb-3f800d1a0e96"
      },
      "outputs": [
        {
          "output_type": "stream",
          "name": "stdout",
          "text": [
            "\n",
            "Nama : Muhammad Hasbi Sabilulhaq\n",
            "NIM : 2107944\n",
            "Prodi : Pilkom-A 2021\n",
            "Universitas Pendidikan Indonesia\n",
            "\n"
          ]
        }
      ],
      "source": [
        "import numpy as np\n",
        "print(\"\\nNama : Muhammad Hasbi Sabilulhaq\\nNIM : 2107944\\nProdi : Pilkom-A 2021\\nUniversitas Pendidikan Indonesia\\n\")\n",
        "A = int(input(\"Masukkan Jumlah Baris Matriks A :\"))\n",
        "B = int(input(\"Masukkan Jumlah Kolom Matriks A :\"))\n",
        "print(\"Masukkan Nilai-Nilai Matriks 1 : \")\n",
        "entries = list(map(int, input().split()))\n",
        "matriks1 = np.array(entries).reshape(A,B)\n",
        "print(\"Matriks 1 : \")\n",
        "print(matriks1)\n",
        "\n",
        "C = int(input(\"Masukkan Jumlah Baris Matriks B :\"))\n",
        "D = int(input(\"Masukkan Jumlah Kolom Matriks B :\"))\n",
        "print(\"Masukkan Nilai-Nilai Matriks 1 : \")\n",
        "entries = list(map(int, input().split()))\n",
        "matriks2 = np.array(entries).reshape(C,D)\n",
        "print(\"Matriks 2 : \")\n",
        "print(matriks2)\n",
        "\n",
        "print(\"\\nHasil Perjumlahan dan Perkalian Matriks A dan B\\n\")\n",
        "\n",
        "print(\"Hasil Perkalian Matriks A dan B : \")\n",
        "perkalian_matriks = np.dot(matriks1,matriks2)\n",
        "print(perkalian_matriks)\n",
        "print(\"Hasil Perjumlahan Matriks A dan A : \")\n",
        "print(matriks1 + matriks1)\n",
        "print(\"Hasil Perjumlahan Matriks B dan B : \")\n",
        "print(matriks2 + matriks2)\n"
      ]
    }
  ],
  "metadata": {
    "colab": {
      "collapsed_sections": [],
      "name": "Selamat Datang di Colaboratory",
      "provenance": []
    },
    "kernelspec": {
      "display_name": "Python 3",
      "name": "python3"
    }
  },
  "nbformat": 4,
  "nbformat_minor": 0
}
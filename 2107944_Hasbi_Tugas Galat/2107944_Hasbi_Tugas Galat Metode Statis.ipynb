{
  "nbformat": 4,
  "nbformat_minor": 0,
  "metadata": {
    "colab": {
      "provenance": []
    },
    "kernelspec": {
      "name": "python3",
      "display_name": "Python 3"
    },
    "language_info": {
      "name": "python"
    }
  },
  "cells": [
    {
      "cell_type": "code",
      "execution_count": 4,
      "metadata": {
        "colab": {
          "base_uri": "https://localhost:8080/"
        },
        "id": "aptpNqHkdLi6",
        "outputId": "2d5de092-2d60-422c-afc1-671386145c3f"
      },
      "outputs": [
        {
          "output_type": "stream",
          "name": "stdout",
          "text": [
            "\n",
            "Nama : Muhammad Hasbi Sabilulhaq\n",
            "NIM : 2107944\n",
            "Prodi : Pilkom-A 2021\n",
            "Universitas Pendidikan Indonesia\n",
            "\n",
            "Menampilkan Matriks A : \n",
            "Menampilkan Matriks A : \n",
            "\n",
            "Hasil Perjumlahan dan Perkalian Matriks A dan B\n",
            "\n",
            "Hasil Perkalian Matriks A dan B : \n",
            "[[ 5  7]\n",
            " [ 4 13]\n",
            " [ 9  6]]\n",
            "Hasil Perjumlahan Matriks A dan A : \n",
            "[[2 4 0]\n",
            " [4 4 2]\n",
            " [0 6 6]]\n",
            "Hasil Perjumlahan Matriks B dan B : \n",
            "[[-2 10]\n",
            " [ 6  2]\n",
            " [ 0  2]]\n"
          ]
        }
      ],
      "source": [
        "import numpy as np\n",
        "print(\"\\nNama : Muhammad Hasbi Sabilulhaq\\nNIM : 2107944\\nProdi : Pilkom-A 2021\\nUniversitas Pendidikan Indonesia\\n\")\n",
        "A = np.array([ [1,2,0], [2,2,1], [0,3,3] ])\n",
        "B = np.array([ [-1,5], [3,1], [0,1] ])\n",
        "print(\"Menampilkan Matriks A : \")\n",
        "A\n",
        "print(\"Menampilkan Matriks A : \")\n",
        "B\n",
        "\n",
        "print(\"\\nHasil Perjumlahan dan Perkalian Matriks A dan B\\n\")\n",
        "\n",
        "print(\"Hasil Perkalian Matriks A dan B : \")\n",
        "perkalian_matriks = np.dot(A,B)\n",
        "print(perkalian_matriks)\n",
        "print(\"Hasil Perjumlahan Matriks A dan A : \")\n",
        "print(A + A)\n",
        "print(\"Hasil Perjumlahan Matriks B dan B : \")\n",
        "print(B + B)"
      ]
    }
  ]
}